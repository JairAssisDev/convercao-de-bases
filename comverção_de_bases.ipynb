{
  "nbformat": 4,
  "nbformat_minor": 0,
  "metadata": {
    "colab": {
      "provenance": [],
      "authorship_tag": "ABX9TyN9BpO8kDmbzI26MiLJR4Xy",
      "include_colab_link": true
    },
    "kernelspec": {
      "name": "python3",
      "display_name": "Python 3"
    },
    "language_info": {
      "name": "python"
    }
  },
  "cells": [
    {
      "cell_type": "markdown",
      "metadata": {
        "id": "view-in-github",
        "colab_type": "text"
      },
      "source": [
        "<a href=\"https://colab.research.google.com/github/JairAssisDev/convercao-de-bases/blob/main/comver%C3%A7%C3%A3o_de_bases.ipynb\" target=\"_parent\"><img src=\"https://colab.research.google.com/assets/colab-badge.svg\" alt=\"Open In Colab\"/></a>"
      ]
    },
    {
      "cell_type": "markdown",
      "source": [
        "decimal para hexa"
      ],
      "metadata": {
        "id": "3wGwSId9wTpe"
      }
    },
    {
      "cell_type": "code",
      "execution_count": null,
      "metadata": {
        "colab": {
          "base_uri": "https://localhost:8080/"
        },
        "id": "1YPCDs0CGaBJ",
        "outputId": "aaf5b619-2f77-451c-e0a5-e5708c08b1d9"
      },
      "outputs": [
        {
          "output_type": "stream",
          "name": "stdout",
          "text": [
            "coloque um numero na base 10 para trensformar em hexadecimal:3123123123123\n",
            "Aqui esta seu resultado: 2d728a4f3b3\n"
          ]
        }
      ],
      "source": [
        "x=int(input(\"coloque um numero na base 10 para transformar em hexadecimal:\"))\n",
        "lista=[]\n",
        "while x>0:\n",
        "  a=x%16\n",
        "  x=x//16\n",
        "  if a<=9:\n",
        "    lista.append(a)\n",
        "  elif a==10:\n",
        "    lista.append(\"a\")\n",
        "  elif a==11:\n",
        "    lista.append(\"b\")\n",
        "  elif a==12:\n",
        "    lista.append(\"c\")\n",
        "  elif a==13:\n",
        "    lista.append(\"d\")\n",
        "  elif a==14:\n",
        "    lista.append(\"e\")\n",
        "  elif a==15:\n",
        "    lista.append(\"f\")\n",
        "lista.reverse()\n",
        "resutado = ''.join(str(elemento) for elemento in lista)\n",
        "print(\"Aqui esta seu resultado: \"+resutado)"
      ]
    },
    {
      "cell_type": "markdown",
      "source": [
        "hexa para decimal"
      ],
      "metadata": {
        "id": "a6BkMQG-wYzO"
      }
    },
    {
      "cell_type": "code",
      "source": [
        "x=str(input(\"coloque um numero em hexadecimal transformar para base 10:\"))\n",
        "lista=[]\n",
        "resutado=[]\n",
        "for caractere in x:\n",
        "    if caractere.isdigit():\n",
        "        lista.append(int(caractere))\n",
        "    else:\n",
        "        lista.append(caractere)\n",
        "for i in range(len(lista)):\n",
        "  if lista[i] in [\"a\", \"A\"]:\n",
        "    lista[i] = 10\n",
        "  elif lista[i] in [\"b\", \"B\"]:\n",
        "    lista[i] = 11\n",
        "  elif lista[i] in [\"c\", \"C\"]:\n",
        "    lista[i] = 12\n",
        "  elif lista[i] in [\"d\", \"D\"]:\n",
        "    lista[i] = 13\n",
        "  elif lista[i] in [\"e\", \"E\"]:\n",
        "    lista[i] = 14\n",
        "  elif lista[i] in [\"f\", \"F\"]:\n",
        "    lista[i] = 15\n",
        "a=0\n",
        "for g in reversed(range(len(lista))):\n",
        "  item=lista[a]\n",
        "  a+=1\n",
        "  y=16**g\n",
        "  x=item*y\n",
        "  resutado.append(x)\n",
        "print(sum(resutado))"
      ],
      "metadata": {
        "colab": {
          "base_uri": "https://localhost:8080/"
        },
        "id": "HqL1spXvI2ZN",
        "outputId": "31f0a521-766e-4246-fbbd-994bcc252707"
      },
      "execution_count": null,
      "outputs": [
        {
          "output_type": "stream",
          "name": "stdout",
          "text": [
            "coloque um numero em hexadecimal transformar para base 10:a4a4a\n",
            "655360\n",
            "16384\n",
            "2560\n",
            "64\n",
            "10\n",
            "674378\n"
          ]
        }
      ]
    },
    {
      "cell_type": "markdown",
      "source": [
        "decimal para octal"
      ],
      "metadata": {
        "id": "gYN_n8oV5jFH"
      }
    },
    {
      "cell_type": "code",
      "source": [
        "x=int(input(\"coloque um numero na base 10 para transformar base 8:\"))\n",
        "\n",
        "lista=[]\n",
        "while x>0:\n",
        "  a=x%8\n",
        "  x=x//8\n",
        "  lista.append(a)\n",
        "lista.reverse()\n",
        "resutado = ''.join(str(elemento) for elemento in lista)\n",
        "print(\"Aqui esta seu resultado: \"+resutado)"
      ],
      "metadata": {
        "colab": {
          "base_uri": "https://localhost:8080/"
        },
        "id": "8oD-_55m5imJ",
        "outputId": "2c6038e7-f93e-4a30-ba44-e826465380fc"
      },
      "execution_count": null,
      "outputs": [
        {
          "output_type": "stream",
          "name": "stdout",
          "text": [
            "coloque um numero na base 10 para transformar base 8:12318230128303\n",
            "Aqui esta seu resultado: 263201756623257\n"
          ]
        }
      ]
    },
    {
      "cell_type": "markdown",
      "source": [
        "octal para decimal"
      ],
      "metadata": {
        "id": "ANsDALer7DFB"
      }
    },
    {
      "cell_type": "code",
      "source": [
        "x=str(input(\"coloque um numero na base 8 para transformar base 10:\"))\n",
        "lista=[]\n",
        "resutado=[]\n",
        "for caractere in x:\n",
        "        lista.append(int(caractere))\n",
        "a=0\n",
        "for g in reversed(range(len(lista))):\n",
        "  item=lista[a]\n",
        "  a+=1\n",
        "  y=8**g\n",
        "  x=item*y\n",
        "  resutado.append(x)\n",
        "  \n",
        "resutado.reverse()\n",
        "\n",
        "print(\"Aqui esta seu resultado: \",sum(resutado))"
      ],
      "metadata": {
        "colab": {
          "base_uri": "https://localhost:8080/"
        },
        "id": "kTG6GySK7GMq",
        "outputId": "a50e097b-bd30-4816-e80a-97fd8d9b6d69"
      },
      "execution_count": null,
      "outputs": [
        {
          "output_type": "stream",
          "name": "stdout",
          "text": [
            "coloque um numero na base 8 para transformar base 10:22\n",
            "Aqui esta seu resultado:  18\n"
          ]
        }
      ]
    },
    {
      "cell_type": "markdown",
      "source": [
        "decimal para binario"
      ],
      "metadata": {
        "id": "o1A8Bday_LfH"
      }
    },
    {
      "cell_type": "code",
      "source": [
        "x=int(input(\"coloque um numero na base 10 para transformar em binário:\"))\n",
        "lista=[]\n",
        "while x>0:\n",
        "  a=x%2\n",
        "  x=x//2\n",
        "  lista.append(a)\n",
        "lista.reverse()\n",
        "resutado = ''.join(str(elemento) for elemento in lista)\n",
        "print(\"Aqui esta seu resultado: \"+resutado)\n"
      ],
      "metadata": {
        "colab": {
          "base_uri": "https://localhost:8080/"
        },
        "id": "H3RU5Qu0_PFl",
        "outputId": "70b40647-62de-4b55-b9c1-7921530e740f"
      },
      "execution_count": null,
      "outputs": [
        {
          "output_type": "stream",
          "name": "stdout",
          "text": [
            "coloque um numero na base 10 para transformar em binário:3434\n",
            "Aqui esta seu resultado: 110101101010\n",
            "[1, 1, 0, 1, 0, 1, 1, 0, 1, 0, 1, 0]\n"
          ]
        }
      ]
    },
    {
      "cell_type": "markdown",
      "source": [
        "binário para decimal"
      ],
      "metadata": {
        "id": "7aJtbKH1BM6H"
      }
    },
    {
      "cell_type": "code",
      "source": [
        "x=str(input(\"coloque um numero em binario transformar para base 10:\"))\n",
        "lista=[]\n",
        "resutado=[]\n",
        "for caractere in x:\n",
        "  if caractere.isdigit():\n",
        "    lista.append(int(caractere))\n",
        "a=0\n",
        "for g in reversed(range(len(lista))):\n",
        "  item=lista[a]\n",
        "  a+=1\n",
        "  y=2**g\n",
        "  x=item*y\n",
        "  resutado.append(x)\n",
        "  \n",
        "resutado.reverse()\n",
        "print(\"Aqui esta seu resultado: \",sum(resutado))"
      ],
      "metadata": {
        "colab": {
          "base_uri": "https://localhost:8080/"
        },
        "id": "n3I2q8haBSMH",
        "outputId": "5e55328a-de71-4d94-9e74-a33e116f03c2"
      },
      "execution_count": null,
      "outputs": [
        {
          "output_type": "stream",
          "name": "stdout",
          "text": [
            "coloque um numero em hexadecimal transformar para base 10:1010\n",
            "Aqui esta seu resultado:  10\n"
          ]
        }
      ]
    },
    {
      "cell_type": "markdown",
      "source": [
        "hexa para binario"
      ],
      "metadata": {
        "id": "vndagRyQ-XcD"
      }
    }
  ]
}