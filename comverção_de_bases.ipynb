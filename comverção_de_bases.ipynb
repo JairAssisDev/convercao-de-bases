{
  "nbformat": 4,
  "nbformat_minor": 0,
  "metadata": {
    "colab": {
      "provenance": [],
      "authorship_tag": "ABX9TyNq47ohtLZIR8nwGbbdskDu"
    },
    "kernelspec": {
      "name": "python3",
      "display_name": "Python 3"
    },
    "language_info": {
      "name": "python"
    }
  },
  "cells": [
    {
      "cell_type": "markdown",
      "source": [
        "decimal para hexa"
      ],
      "metadata": {
        "id": "3wGwSId9wTpe"
      }
    },
    {
      "cell_type": "code",
      "execution_count": 15,
      "metadata": {
        "colab": {
          "base_uri": "https://localhost:8080/"
        },
        "id": "1YPCDs0CGaBJ",
        "outputId": "aaf5b619-2f77-451c-e0a5-e5708c08b1d9"
      },
      "outputs": [
        {
          "output_type": "stream",
          "name": "stdout",
          "text": [
            "coloque um numero na base 10 para trensformar em hexadecimal:3123123123123\n",
            "Aqui esta seu resultado: 2d728a4f3b3\n"
          ]
        }
      ],
      "source": [
        "x=int(input(\"coloque um numero na base 10 para transformar em hexadecimal:\"))\n",
        "lista=[]\n",
        "while x>0:\n",
        "  a=x%16\n",
        "  x=x//16\n",
        "  if a<=9:\n",
        "    lista.append(a)\n",
        "  elif a==10:\n",
        "    lista.append(\"a\")\n",
        "  elif a==11:\n",
        "    lista.append(\"b\")\n",
        "  elif a==12:\n",
        "    lista.append(\"c\")\n",
        "  elif a==13:\n",
        "    lista.append(\"d\")\n",
        "  elif a==14:\n",
        "    lista.append(\"e\")\n",
        "  elif a==15:\n",
        "    lista.append(\"f\")\n",
        "lista.reverse()\n",
        "resutado = ''.join(str(elemento) for elemento in lista)\n",
        "print(\"Aqui esta seu resultado: \"+resutado)"
      ]
    },
    {
      "cell_type": "markdown",
      "source": [
        "hexa para decimal"
      ],
      "metadata": {
        "id": "a6BkMQG-wYzO"
      }
    },
    {
      "cell_type": "code",
      "source": [
        "x=str(input(\"coloque um numero em hexadecimal transformar para base 10:\"))\n",
        "lista=[]\n",
        "resutado=[]\n",
        "for caractere in x:\n",
        "    if caractere.isdigit():\n",
        "        lista.append(int(caractere))\n",
        "    else:\n",
        "        lista.append(caractere)\n",
        "for i in range(len(lista)):\n",
        "  if lista[i] in [\"a\", \"A\"]:\n",
        "    lista[i] = 10\n",
        "  elif lista[i] in [\"b\", \"B\"]:\n",
        "    lista[i] = 11\n",
        "  elif lista[i] in [\"c\", \"C\"]:\n",
        "    lista[i] = 12\n",
        "  elif lista[i] in [\"d\", \"D\"]:\n",
        "    lista[i] = 13\n",
        "  elif lista[i] in [\"e\", \"E\"]:\n",
        "    lista[i] = 14\n",
        "  elif lista[i] in [\"f\", \"F\"]:\n",
        "    lista[i] = 15\n",
        "a=0\n",
        "for g in reversed(range(len(lista))):\n",
        "  \n",
        "  item=lista[a]\n",
        "  a+=1\n",
        "  y=16**g\n",
        "  x=item*y\n",
        "  resutado.append(x)\n",
        "  print(x)\n",
        "print(sum(resutado))"
      ],
      "metadata": {
        "colab": {
          "base_uri": "https://localhost:8080/"
        },
        "id": "HqL1spXvI2ZN",
        "outputId": "cf04915c-b73d-42bb-965d-8575f5d4f5ee"
      },
      "execution_count": 62,
      "outputs": [
        {
          "output_type": "stream",
          "name": "stdout",
          "text": [
            "coloque um numero em hexadecimal transformar para base 10:a37e\n",
            "40960\n",
            "768\n",
            "112\n",
            "14\n",
            "41854\n"
          ]
        }
      ]
    }
  ]
}